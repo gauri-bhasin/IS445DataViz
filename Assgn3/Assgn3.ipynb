{
 "cells": [
  {
   "cell_type": "markdown",
   "metadata": {},
   "source": [
    "# Assignment 3: Linear Regression and Multivariate Statistics"
   ]
  },
  {
   "cell_type": "markdown",
   "metadata": {},
   "source": [
    "## Question 1\n",
    "The coffee shop dataset contains 2,000 observations (rows) and 7 features (columns): coffee_shop.csv\n",
    "\n",
    "\n",
    "1. We are interested in which independent variables are significant for predicting the Daily_Revenue by the other predictors. Before running any regressions make sure to check for multicollinearity.  How did you check for multicollinearity?  If there is multicollinearity, how do you plan to resolve it?  Are there any other issues with the dataset we must consider before running the regressions?\n",
    "\n",
    "2. Run a ordinary least squares multiple regression (lm) of price on the variables listed above.\n",
    "\n",
    "3. Run the model using an automatic method (i.e., stepwise, forward, backward).  Explain why you chose the method.  Comment on the overall significance of the regression fit.  Which predictors have coefficients that are significantly different from zero at the .05 level?"
   ]
  },
  {
   "cell_type": "code",
   "execution_count": 13,
   "metadata": {},
   "outputs": [
    {
     "name": "stdout",
     "output_type": "stream",
     "text": [
      "                       Feature        VIF\n",
      "0                        const  36.969706\n",
      "1  Number_of_Customers_Per_Day   1.000970\n",
      "2          Average_Order_Value   1.001364\n",
      "3      Operating_Hours_Per_Day   1.001816\n",
      "4          Number_of_Employees   1.003490\n",
      "5      Marketing_Spend_Per_Day   1.002366\n",
      "6        Location_Foot_Traffic   1.002434\n"
     ]
    }
   ],
   "source": [
    "import pandas as pd\n",
    "from statsmodels.stats.outliers_influence import variance_inflation_factor\n",
    "\n",
    "import statsmodels.api as sm\n",
    "\n",
    "# Load the dataset\n",
    "coffee_shop_data = pd.read_csv('coffee_shop.csv')\n",
    "\n",
    "# Check for multicollinearity using Variance Inflation Factor (VIF)\n",
    "X = coffee_shop_data.drop(columns=['Daily_Revenue'])  # Independent variables\n",
    "X = sm.add_constant(X)  # Add constant for intercept\n",
    "\n",
    "# Calculate VIF for each feature\n",
    "vif_data = pd.DataFrame()\n",
    "vif_data['Feature'] = X.columns\n",
    "vif_data['VIF'] = [variance_inflation_factor(X.values, i) for i in range(X.shape[1])]\n",
    "\n",
    "print(vif_data)\n",
    "\n",
    "# Plan to resolve multicollinearity:\n",
    "# - If VIF > 10 for any feature, it indicates high multicollinearity.\n",
    "# - We can resolve it by removing one of the correlated variables or using dimensionality reduction techniques like PCA."
   ]
  },
  {
   "cell_type": "markdown",
   "metadata": {},
   "source": [
    "I loaded the coffee shop dataset, which contains 2,000 observations and 7 features, and conducted a multicollinearity check among the predictors. The dataset comprises Daily_Revenue (the dependent variable we aim to predict) along with Number_of_Customers_Per_Day, Average_Order_Value, Operating_Hours_Per_Day, Number_of_Employees, Marketing_Spend_Per_Day, and Location_Foot_Traffic. To assess multicollinearity, I computed the Variance Inflation Factor (VIF) for each predictor after excluding Daily_Revenue. The VIF for the constant was approximately 37—a common occurrence due to the intercept—while the VIFs for all other predictors were around 1, which is well below the typical threshold of 10. Since none of the predictors (other than the constant) indicate problematic multicollinearity, no corrective measures such as removing variables or applying PCA were necessary."
   ]
  },
  {
   "cell_type": "markdown",
   "metadata": {},
   "source": [
    "### Regression Analysis with Automatic Variable Selection\n",
    "With multicollinearity not being an issue, I proceeded to perform an Ordinary Least Squares (OLS) regression to model Daily_Revenue using the remaining predictors. To refine the model and ensure that only statistically significant variables are included, I employed backward elimination as an automatic variable selection method. This approach starts with the full model containing all predictors and then iteratively removes the predictor with the highest p-value if it exceeds the significance threshold of 0.05. By continuously eliminating the least significant predictors, the method results in a simpler, more interpretable model that retains only those variables that contribute meaningfully to predicting Daily_Revenue."
   ]
  },
  {
   "cell_type": "code",
   "execution_count": 14,
   "metadata": {},
   "outputs": [
    {
     "name": "stdout",
     "output_type": "stream",
     "text": [
      "Removing 'Operating_Hours_Per_Day' with p-value 0.9112\n",
      "Removing 'Location_Foot_Traffic' with p-value 0.3621\n",
      "Removing 'Number_of_Employees' with p-value 0.2147\n",
      "\n",
      "Final Model Summary:\n",
      "                            OLS Regression Results                            \n",
      "==============================================================================\n",
      "Dep. Variable:          Daily_Revenue   R-squared:                       0.891\n",
      "Model:                            OLS   Adj. R-squared:                  0.891\n",
      "Method:                 Least Squares   F-statistic:                     5464.\n",
      "Date:                Mon, 31 Mar 2025   Prob (F-statistic):               0.00\n",
      "Time:                        13:08:23   Log-Likelihood:                -14384.\n",
      "No. Observations:                2000   AIC:                         2.878e+04\n",
      "Df Residuals:                    1996   BIC:                         2.880e+04\n",
      "Df Model:                           3                                         \n",
      "Covariance Type:            nonrobust                                         \n",
      "===============================================================================================\n",
      "                                  coef    std err          t      P>|t|      [0.025      0.975]\n",
      "-----------------------------------------------------------------------------------------------\n",
      "const                       -1525.6781     29.477    -51.758      0.000   -1583.487   -1467.869\n",
      "Number_of_Customers_Per_Day     5.5680      0.056    100.066      0.000       5.459       5.677\n",
      "Average_Order_Value           243.3025      3.310     73.514      0.000     236.812     249.793\n",
      "Marketing_Spend_Per_Day         1.5532      0.051     30.433      0.000       1.453       1.653\n",
      "==============================================================================\n",
      "Omnibus:                        1.578   Durbin-Watson:                   1.986\n",
      "Prob(Omnibus):                  0.454   Jarque-Bera (JB):                1.553\n",
      "Skew:                          -0.006   Prob(JB):                        0.460\n",
      "Kurtosis:                       3.136   Cond. No.                     1.63e+03\n",
      "==============================================================================\n",
      "\n",
      "Notes:\n",
      "[1] Standard Errors assume that the covariance matrix of the errors is correctly specified.\n",
      "[2] The condition number is large, 1.63e+03. This might indicate that there are\n",
      "strong multicollinearity or other numerical problems.\n"
     ]
    }
   ],
   "source": [
    "y = coffee_shop_data['Daily_Revenue']\n",
    "X = coffee_shop_data.drop(columns=['Daily_Revenue'])\n",
    "\n",
    "# Add a constant for the intercept\n",
    "X = sm.add_constant(X)\n",
    "\n",
    "# Define a function to perform backward elimination\n",
    "def backward_elimination(X, y, sl=0.05):\n",
    "    # Start with all predictors in the model\n",
    "    remaining_predictors = list(X.columns)\n",
    "    while True:\n",
    "        # Fit the model with the current set of predictors\n",
    "        model = sm.OLS(y, X[remaining_predictors]).fit()\n",
    "        # Get the predictor with the highest p-value\n",
    "        p_values = model.pvalues.iloc[1:]  # exclude the intercept\n",
    "        max_p_value = p_values.max()\n",
    "        if max_p_value > sl:\n",
    "            # Identify predictor to remove\n",
    "            predictor_to_remove = p_values.idxmax()\n",
    "            print(f\"Removing '{predictor_to_remove}' with p-value {max_p_value:.4f}\")\n",
    "            remaining_predictors.remove(predictor_to_remove)\n",
    "        else:\n",
    "            break\n",
    "    return model, remaining_predictors\n",
    "\n",
    "# Run backward elimination\n",
    "final_model, final_predictors = backward_elimination(X, y)\n",
    "\n",
    "# Print the final model summary\n",
    "print(\"\\nFinal Model Summary:\")\n",
    "print(final_model.summary())"
   ]
  },
  {
   "cell_type": "markdown",
   "metadata": {},
   "source": [
    "### Conclusion\n",
    "The final model, as evidenced by its summary output, not only demonstrated overall significance but also identified the key predictors that meaningfully contribute to the prediction of Daily_Revenue. This comprehensive methodology effectively addresses the assignment requirements, providing a robust and interpretable model for forecasting daily revenue at the coffee shop."
   ]
  },
  {
   "cell_type": "markdown",
   "metadata": {},
   "source": [
    "## Question 2\n",
    "The data given in the file ‘Big5.csv’ are 5-point Likert items taken from the Big Five Personality Test web-based personality assessment.  Techniques, such as Principal Component Analysis (PCA), can be used to determine different types of personalities.  There are 19,719 subjects in the file and 50 variable items.\n",
    "How many components are determined from the eigenvalues greater than 1? How many components are determined from the knee/elbow of the scree plot?  What number of components would you use in the model?\n",
    "\n",
    "For Latent Variable Discovery Analysis, name the components and explain what you learn about the components from the intracorrelations or loadings.\n",
    "\n",
    "Finally, run a common factor analysis on the same data using the same number of factors as you used components earlier in the problem. What difference, if any, do you find? Does the factor analysis change your ability to interpret the results practically?\n",
    " "
   ]
  },
  {
   "cell_type": "code",
   "execution_count": 15,
   "metadata": {},
   "outputs": [
    {
     "name": "stdout",
     "output_type": "stream",
     "text": [
      "Dataset shape: (19719, 50)\n",
      "First 5 rows:\n",
      "   E1  E2  E3  E4  E5  E6  E7  E8  E9  E10  ...  O1  O2  O3  O4  O5  O6  O7  \\\n",
      "0   4   2   5   2   5   1   4   3   5    1  ...   4   1   3   1   5   1   4   \n",
      "1   2   2   3   3   3   3   1   5   1    5  ...   3   3   3   3   2   3   3   \n",
      "2   5   1   1   4   5   1   1   5   5    1  ...   4   5   5   1   5   1   5   \n",
      "3   2   5   2   4   3   4   3   4   4    5  ...   4   3   5   2   4   2   5   \n",
      "4   3   1   3   3   3   1   3   1   3    5  ...   3   1   1   1   3   1   3   \n",
      "\n",
      "   O8  O9  O10  \n",
      "0   2   5    5  \n",
      "1   1   3    2  \n",
      "2   5   5    5  \n",
      "3   2   5    5  \n",
      "4   1   5    3  \n",
      "\n",
      "[5 rows x 50 columns]\n"
     ]
    }
   ],
   "source": [
    "import pandas as pd\n",
    "from sklearn.decomposition import PCA\n",
    "import matplotlib.pyplot as plt\n",
    "import numpy as np\n",
    "\n",
    "# Load the dataset\n",
    "df = pd.read_csv('BIG5.csv')\n",
    "\n",
    "# Inspect the dataset: display shape and first few rows\n",
    "print(\"Dataset shape:\", df.shape)\n",
    "print(\"First 5 rows:\")\n",
    "print(df.head())\n"
   ]
  },
  {
   "cell_type": "code",
   "execution_count": 16,
   "metadata": {},
   "outputs": [
    {
     "name": "stdout",
     "output_type": "stream",
     "text": [
      "\n",
      "Eigenvalues:\n",
      "[12.33811032  7.21726426  5.2777484   4.24279587  4.03866955  2.26061155\n",
      "  1.86418941  1.53886515  1.45219588  1.38873372  1.30561123  1.26397429\n",
      "  1.18350445  1.14633185  1.08774334  1.02197169  0.98385408  0.97919524\n",
      "  0.93019709  0.91130079  0.89272216  0.85057317  0.82783457  0.81785882\n",
      "  0.80286611  0.7884504   0.76139842  0.7416824   0.72157545  0.70699229\n",
      "  0.68963265  0.66419958  0.65789748  0.6481566   0.64047475  0.63626\n",
      "  0.63031308  0.61120312  0.59347235  0.57745351  0.5728407   0.56136951\n",
      "  0.5407359   0.47954386  0.46765024  0.45583048  0.43538106  0.39078031\n",
      "  0.37005632  0.31578237]\n"
     ]
    }
   ],
   "source": [
    "# Run PCA on the data\n",
    "# We assume that the responses are numeric (5-point Likert scale).\n",
    "pca = PCA()\n",
    "pca.fit(df)\n",
    "\n",
    "# Get eigenvalues (variance explained by each component)\n",
    "eigenvalues = pca.explained_variance_\n",
    "print(\"\\nEigenvalues:\")\n",
    "print(eigenvalues)"
   ]
  },
  {
   "cell_type": "code",
   "execution_count": null,
   "metadata": {},
   "outputs": [
    {
     "data": {
      "image/png": "[encoded data removed]",
      "text/plain": [
       "<Figure size 800x500 with 1 Axes>"
      ]
     },
     "metadata": {},
     "output_type": "display_data"
    }
   ],
   "source": [
    "# Scree plot to visualize the eigenvalues\n",
    "plt.figure(figsize=(8, 5))\n",
    "plt.plot(range(1, len(eigenvalues)+1), eigenvalues, marker='o')\n",
    "plt.title(\"Scree Plot\")\n",
    "plt.xlabel(\"Component Number\")\n",
    "plt.ylabel(\"Eigenvalue\")\n",
    "plt.axhline(y=1, color='r', linestyle='--', label='Eigenvalue = 1')\n",
    "plt.legend()\n",
    "plt.grid(True)\n",
    "plt.show()"
   ]
  },
  {
   "cell_type": "markdown",
   "metadata": {},
   "source": [
    "### Interpreting the PCA Results\n",
    "Number of components with eigenvalues > 1\n",
    "From the output, there are 16 components whose eigenvalues exceed 1.\n",
    "\n",
    "Number of components suggested by the scree plot (the “knee” or “elbow”)\n",
    "By visually inspecting the scree plot you provided, we see a large drop in eigenvalues after the first few components, then a gentler slope. A common rule-of-thumb “elbow” appears around the 5th or 6th component.\n",
    "In the context of the Big Five personality model, it is typical to see a 5-factor solution. However, purely from the scree plot, you might argue anywhere from 4 to 6 components. The most common choice—given that this dataset specifically measures the Big Five personality traits—is 5.\n",
    "\n",
    "What number of components would you use in the model?\n",
    "Because these 50 items were explicitly designed to measure the Big Five traits (Extraversion, Neuroticism, Agreeableness, Conscientiousness, and Openness), we would use 5 components. This choice is both theoretically and practically justified: the original Big Five framework expects 5 latent factors."
   ]
  },
  {
   "cell_type": "code",
   "execution_count": 18,
   "metadata": {},
   "outputs": [
    {
     "name": "stdout",
     "output_type": "stream",
     "text": [
      "\n",
      "Number of components with eigenvalues > 1: 16\n",
      "\n",
      "Cumulative explained variance:\n",
      "[0.17308422 0.27433104 0.34836952 0.40788925 0.46454542 0.49625823\n",
      " 0.52240986 0.54399771 0.56436973 0.58385147 0.60216714 0.6198987\n",
      " 0.6365014  0.65258263 0.66784195 0.6821786  0.69598052 0.70971708\n",
      " 0.72276628 0.73555039 0.74807388 0.76000607 0.77161929 0.78309256\n",
      " 0.7943555  0.80541622 0.81609743 0.82650207 0.83662463 0.84654262\n",
      " 0.85621708 0.86553475 0.87476401 0.88385663 0.89284148 0.9017672\n",
      " 0.9106095  0.91918371 0.92750919 0.93560995 0.943646   0.95152113\n",
      " 0.9591068  0.96583405 0.97239444 0.97878903 0.98489673 0.99037877\n",
      " 0.99557007 1.        ]\n"
     ]
    }
   ],
   "source": [
    "# Identify the number of components with eigenvalue > 1\n",
    "n_components_greater1 = sum(eigenvalues > 1)\n",
    "print(\"\\nNumber of components with eigenvalues > 1:\", n_components_greater1)\n",
    "cumulative_explained_variance = np.cumsum(pca.explained_variance_ratio_)\n",
    "print(\"\\nCumulative explained variance:\")\n",
    "print(cumulative_explained_variance)"
   ]
  },
  {
   "cell_type": "markdown",
   "metadata": {},
   "source": [
    "### Latent Variable Discovery (Naming the Components)\n",
    "If we extract 5 components (or factors) from the PCA, we typically see the classic Big Five traits emerge. Although exact loadings vary by dataset, you will often find:\n",
    "\n",
    "Component 1: Extraversion (E)\n",
    "\n",
    "High loadings on items like “I am the life of the party,” “I start conversations,” etc.\n",
    "\n",
    "Negative loadings on items like “I don’t talk a lot,” “I keep in the background.”\n",
    "\n",
    "Component 2: Neuroticism (N)\n",
    "\n",
    "High loadings on items like “I get stressed out easily,” “I worry about things.”\n",
    "\n",
    "Negative loadings on “I am relaxed most of the time,” “I seldom feel blue.”\n",
    "\n",
    "Component 3: Agreeableness (A)\n",
    "\n",
    "High loadings on items like “I feel concern for others,” “I sympathize with others’ feelings.”\n",
    "\n",
    "Negative loadings on “I insult people,” “I am not interested in other people’s problems.”\n",
    "\n",
    "Component 4: Conscientiousness (C)\n",
    "\n",
    "High loadings on items like “I am always prepared,” “I pay attention to details.”\n",
    "\n",
    "Negative loadings on “I leave my belongings around,” “I shirk my duties.”\n",
    "\n",
    "Component 5: Openness (O)\n",
    "\n",
    "High loadings on items like “I have a rich vocabulary,” “I have excellent ideas.”\n",
    "\n",
    "Negative loadings on “I do not have a good imagination,” “I have difficulty understanding abstract ideas.”\n",
    "\n",
    "What we learn from the loadings\n",
    "Each set of items that strongly loads on a particular component reveals the underlying latent dimension.\n",
    "\n",
    "The signs (positive or negative) on the loadings indicate the direction of the relationship. For example, for Extraversion, positively phrased items (e.g., “I am the life of the party”) load positively, while reverse-coded items (e.g., “I don’t talk a lot”) load negatively.\n",
    "\n",
    "These patterns confirm or reveal the underlying structure that the items measure."
   ]
  },
  {
   "cell_type": "code",
   "execution_count": 19,
   "metadata": {},
   "outputs": [
    {
     "name": "stdout",
     "output_type": "stream",
     "text": [
      "\n",
      "Factor Loadings (common factor analysis with 5 factors):\n",
      "      Factor1   Factor2   Factor3   Factor4   Factor5\n",
      "E1   0.669996 -0.056644  0.064767  0.010375  0.039015\n",
      "E2  -0.677327  0.007355 -0.123786  0.027048 -0.040937\n",
      "E3   0.650714 -0.256922  0.259348  0.131979 -0.010280\n",
      "E4  -0.701397  0.154401 -0.058339 -0.024274 -0.007838\n",
      "E5   0.725810 -0.079501  0.216554  0.099889  0.075500\n",
      "E6  -0.564382  0.093580 -0.156945 -0.029074 -0.223752\n",
      "E7   0.730078 -0.103411  0.162094  0.045612  0.034044\n",
      "E8  -0.563993  0.035585  0.034638  0.061819 -0.028891\n",
      "E9   0.618288 -0.042701 -0.008049 -0.008267  0.115450\n",
      "E10 -0.642181  0.187840 -0.062428 -0.023597 -0.024404\n",
      "N1  -0.109800  0.686316  0.063869 -0.021555 -0.071478\n",
      "N2   0.114255 -0.495081  0.016333 -0.030023  0.069578\n",
      "N3  -0.138063  0.615567  0.162510  0.042377 -0.010804\n",
      "N4   0.143536 -0.319757 -0.026781  0.098303 -0.052696\n",
      "N5  -0.048778  0.536294 -0.021181 -0.113691 -0.126471\n",
      "N6  -0.061717  0.742160  0.028845 -0.086954 -0.094690\n",
      "N7  -0.008309  0.701346 -0.076751 -0.155622 -0.005952\n",
      "N8  -0.020602  0.734001 -0.086199 -0.161347 -0.019393\n",
      "N9  -0.048323  0.706748 -0.175711 -0.049924 -0.032827\n",
      "N10 -0.246647  0.613502 -0.038677 -0.166575  0.049262\n",
      "A1  -0.020357  0.071534 -0.429370 -0.021572 -0.085449\n",
      "A2   0.343832 -0.056769  0.532098  0.003452  0.092329\n",
      "A3   0.094700  0.245045 -0.402660 -0.192976  0.077715\n",
      "A4   0.040557  0.061387  0.781989  0.043956  0.019851\n",
      "A5  -0.140496  0.022326 -0.655802  0.003271 -0.027470\n",
      "A6   0.003827  0.151598  0.587389  0.037811 -0.066401\n",
      "A7  -0.311393  0.102643 -0.626195 -0.008777 -0.050535\n",
      "A8   0.126001 -0.019461  0.580184  0.092985  0.045610\n",
      "A9   0.117810  0.111439  0.691568  0.072807  0.068112\n",
      "A10  0.337254 -0.123264  0.382487  0.152597  0.093989\n",
      "C1   0.044733 -0.104412  0.013596  0.598824  0.117367\n",
      "C2   0.051758  0.106214  0.040949 -0.522967  0.125957\n",
      "C3  -0.031181  0.009296  0.087870  0.405486  0.260914\n",
      "C4  -0.063342  0.363322 -0.046019 -0.555341  0.014198\n",
      "C5   0.086143 -0.086466  0.065588  0.622984 -0.084320\n",
      "C6  -0.000980  0.170190  0.003516 -0.582286  0.063193\n",
      "C7  -0.043197  0.072796  0.031213  0.536293  0.037413\n",
      "C8  -0.063609  0.221586 -0.158426 -0.472121 -0.036656\n",
      "C9   0.058679  0.021834  0.092997  0.625136 -0.036730\n",
      "C10  0.035921 -0.010321  0.062287  0.472913  0.228170\n",
      "O1   0.035252 -0.043877 -0.032516  0.045657  0.593308\n",
      "O2  -0.015200  0.212459 -0.028324 -0.004346 -0.556030\n",
      "O3   0.035352  0.105723  0.061832 -0.080042  0.525722\n",
      "O4   0.013652  0.118330 -0.114573  0.063244 -0.475385\n",
      "O5   0.211363 -0.062298 -0.014451  0.166759  0.583062\n",
      "O6  -0.101168  0.049057 -0.084777  0.031039 -0.494140\n",
      "O7   0.081561 -0.132674 -0.002506  0.196083  0.488762\n",
      "O8   0.000036  0.079363 -0.112483 -0.045916  0.551527\n",
      "O9  -0.135728  0.168975  0.176076  0.045439  0.339347\n",
      "O10  0.193353 -0.017253  0.028877  0.050552  0.663103\n",
      "\n",
      "Factor Variance Explained:\n",
      "Variance per factor: [4.98625911 4.61063455 3.76643441 3.27188221 3.17310274]\n",
      "Proportional variance: [0.09972518 0.09221269 0.07532869 0.06543764 0.06346205]\n",
      "Cumulative variance: [0.09972518 0.19193787 0.26726656 0.33270421 0.39616626]\n"
     ]
    }
   ],
   "source": [
    "from factor_analyzer import FactorAnalyzer\n",
    "\n",
    "# Assuming df is already loaded\n",
    "# We choose 5 factors to match our PCA choice\n",
    "fa = FactorAnalyzer(n_factors=5, rotation='varimax')\n",
    "fa.fit(df)\n",
    "\n",
    "# Get the factor loadings\n",
    "loadings = fa.loadings_\n",
    "\n",
    "# Convert to DataFrame for easier reading\n",
    "factor_loadings_df = pd.DataFrame(loadings, \n",
    "                                  columns=[f\"Factor{i+1}\" for i in range(5)], \n",
    "                                  index=df.columns)\n",
    "print(\"\\nFactor Loadings (common factor analysis with 5 factors):\")\n",
    "print(factor_loadings_df)\n",
    "\n",
    "# You can also check factor variance, communalities, etc.\n",
    "variance_explained = fa.get_factor_variance()\n",
    "print(\"\\nFactor Variance Explained:\")\n",
    "print(\"Variance per factor:\", variance_explained[0])\n",
    "print(\"Proportional variance:\", variance_explained[1])\n",
    "print(\"Cumulative variance:\", variance_explained[2])"
   ]
  },
  {
   "cell_type": "markdown",
   "metadata": {},
   "source": [
    "Both the PCA and common factor analysis results support the existence of five latent dimensions that align with the Big Five personality traits. Although the PCA produced 16 components with eigenvalues greater than 1, the scree plot clearly indicated an elbow around the 5th component, reinforcing the theory that the items were designed to measure Extraversion, Neuroticism, Agreeableness, Conscientiousness, and Openness. In contrast, the factor analysis—focused solely on common variance—yielded factor loadings that grouped items into five distinct factors with a cumulative variance of approximately 39.6%. While PCA accounts for both common and unique variance, factor analysis isolates the shared variance among items, making it more suitable for understanding latent constructs. Despite minor differences in loading magnitudes, both methods consistently reveal a five-factor structure, confirming that the underlying personality dimensions remain practically interpretable regardless of the analytical approach."
   ]
  }
 ],
 "metadata": {
  "kernelspec": {
   "display_name": "base",
   "language": "python",
   "name": "python3"
  },
  "language_info": {
   "codemirror_mode": {
    "name": "ipython",
    "version": 3
   },
   "file_extension": ".py",
   "mimetype": "text/x-python",
   "name": "python",
   "nbconvert_exporter": "python",
   "pygments_lexer": "ipython3",
   "version": "3.11.4"
  }
 },
 "nbformat": 4,
 "nbformat_minor": 2
}
