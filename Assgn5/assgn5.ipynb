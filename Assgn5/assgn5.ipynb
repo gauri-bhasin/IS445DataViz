{
 "cells": [
  {
   "cell_type": "code",
   "execution_count": null,
   "id": "2f4ec53b",
   "metadata": {},
   "outputs": [],
   "source": [
    "import pandas as pd\n",
    "import numpy as np\n",
    "import statsmodels.api as sm\n",
    "from sklearn.model_selection import train_test_split\n",
    "from sklearn.linear_model import LogisticRegression\n",
    "from sklearn import metrics\n",
    "from sklearn.metrics import roc_curve, auc\n",
    "from sklearn.tree import DecisionTreeClassifier\n",
    "from sklearn.ensemble import RandomForestClassifier\n",
    "import matplotlib.pyplot as plt"
   ]
  },
  {
   "cell_type": "code",
   "execution_count": null,
   "id": "2b90c119",
   "metadata": {},
   "outputs": [
    {
     "name": "stdout",
     "output_type": "stream",
     "text": [
      "Logistic Regression (Statsmodels) Summary:\n",
      "                           Logit Regression Results                           \n",
      "==============================================================================\n",
      "Dep. Variable:                 Target   No. Observations:                  951\n",
      "Model:                          Logit   Df Residuals:                      942\n",
      "Method:                           MLE   Df Model:                            8\n",
      "Date:                Tue, 22 Apr 2025   Pseudo R-squ.:                  0.5758\n",
      "Time:                        23:58:37   Log-Likelihood:                -271.59\n",
      "converged:                       True   LL-Null:                       -640.28\n",
      "Covariance Type:            nonrobust   LLR p-value:                6.422e-154\n",
      "==============================================================================\n",
      "                 coef    std err          z      P>|z|      [0.025      0.975]\n",
      "------------------------------------------------------------------------------\n",
      "const         68.4016     12.500      5.472      0.000      43.903      92.900\n",
      "Gender         1.7966      0.299      6.010      0.000       1.211       2.382\n",
      "Age           -0.1626      0.022     -7.379      0.000      -0.206      -0.119\n",
      "EDUC          -0.2244      0.068     -3.294      0.001      -0.358      -0.091\n",
      "SES           -0.3747      0.157     -2.385      0.017      -0.683      -0.067\n",
      "MMSE          -1.2385      0.100    -12.355      0.000      -1.435      -1.042\n",
      "eTIV          -0.0006      0.004     -0.173      0.863      -0.008       0.007\n",
      "nWBV         -30.2986      4.205     -7.205      0.000     -38.540     -22.057\n",
      "ASF            4.1433      4.879      0.849      0.396      -5.420      13.706\n",
      "==============================================================================\n",
      "\n",
      "Odds Ratios & 95% CI:\n",
      "                  OR       2.5% CI      97.5% CI       p-value\n",
      "const   5.086749e+29  1.166326e+19  2.218506e+40  4.441473e-08\n",
      "Gender  6.028924e+00  3.355676e+00  1.083178e+01  1.858011e-09\n",
      "Age     8.499649e-01  8.140446e-01  8.874701e-01  1.598101e-13\n",
      "EDUC    7.989861e-01  6.991038e-01  9.131387e-01  9.891974e-04\n",
      "SES     6.874944e-01  5.052560e-01  9.354635e-01  1.710188e-02\n",
      "MMSE    2.898310e-01  2.381329e-01  3.527525e-01  4.589237e-35\n",
      "eTIV    9.993525e-01  9.920444e-01  1.006714e+00  8.626813e-01\n",
      "nWBV    6.942341e-14  1.828605e-17  2.635676e-10  5.796088e-13\n",
      "ASF     6.301019e+01  4.428908e-03  8.964476e+05  3.957759e-01\n"
     ]
    }
   ],
   "source": [
    "# Load dataset\n",
    "df = pd.read_csv('alzheimer.csv')\n",
    "# Preprocess: drop missing values and encode target\n",
    "df = df.dropna()\n",
    "df['Target'] = (df['Dementia'] == 'Alzheimer').astype(int)\n",
    "\n",
    "# Define features (excluding CDR due to perfect separation)\n",
    "X = df[['Gender','Age','EDUC','SES','MMSE','eTIV','nWBV','ASF']]\n",
    "y = df['Target']\n",
    "\n",
    "# Part 1: Logistic regression with statsmodels\n",
    "X_sm = sm.add_constant(X)\n",
    "logit_model = sm.Logit(y, X_sm).fit(disp=0)\n",
    "# Odds ratios and 95% CI\n",
    "params = logit_model.params\n",
    "conf = logit_model.conf_int()\n",
    "odds_ratios = np.exp(params)\n",
    "ci_lower = np.exp(conf[0])\n",
    "ci_upper = np.exp(conf[1])\n",
    "or_df = pd.DataFrame({'OR': odds_ratios, '2.5% CI': ci_lower, '97.5% CI': ci_upper, 'p-value': logit_model.pvalues})\n",
    "print(\"Logistic Regression (Statsmodels) Summary:\")\n",
    "print(logit_model.summary())\n",
    "print(\"\\nOdds Ratios & 95% CI:\")\n",
    "print(or_df)\n"
   ]
  },
  {
   "cell_type": "markdown",
   "id": "157e3a0d",
   "metadata": {},
   "source": [
    "We fit a multivariable logistic regression on 951 complete cases and found the overall model highly significant (LLR p < 1 × 10⁻¹⁵). Significant predictors (p < 0.05) include:\n",
    "\n",
    "Gender (OR = 6.03, 95% CI 3.36–10.83, p < 0.001): Males have over six‐fold higher odds of an Alzheimer’s diagnosis compared to females.\n",
    "\n",
    "Age (OR = 0.85 per year, 95% CI 0.81–0.89, p < 0.001): Each additional year is associated with a 15% lower odds of Alzheimer’s—an unexpected direction that may reflect cohort or sampling effects.\n",
    "\n",
    "Education (OR = 0.80 per year, 95% CI 0.70–0.91, p = 0.001): Each extra year of schooling reduces odds by ~20%.\n",
    "\n",
    "SES (OR = 0.69 per unit, 95% CI 0.51–0.94, p = 0.017): Higher socioeconomic status is protective (31% lower odds).\n",
    "\n",
    "MMSE (OR = 0.29 per point, 95% CI 0.24–0.35, p < 0.001): Better cognitive scores strongly reduce Alzheimer’s odds (~71% per point).\n",
    "\n",
    "nWBV (OR ≈ 7 × 10⁻¹⁴, 95% CI 1.8 × 10⁻¹⁷–2.6 × 10⁻¹⁰, p < 0.001): Higher normalized whole brain volume is highly protective.\n",
    "\n",
    "Total intracranial volume (eTIV) and ASF were not significant (p > 0.3). These odds ratios quantify each predictor’s association with Alzheimer’s risk."
   ]
  },
  {
   "cell_type": "code",
   "execution_count": 8,
   "id": "28df0533",
   "metadata": {},
   "outputs": [
    {
     "name": "stdout",
     "output_type": "stream",
     "text": [
      "\n",
      "Logistic Regression Confusion Matrix:\n",
      "[[147  17]\n",
      " [ 32  90]]\n",
      "              precision    recall  f1-score   support\n",
      "\n",
      "           0       0.82      0.90      0.86       164\n",
      "           1       0.84      0.74      0.79       122\n",
      "\n",
      "    accuracy                           0.83       286\n",
      "   macro avg       0.83      0.82      0.82       286\n",
      "weighted avg       0.83      0.83      0.83       286\n",
      "\n"
     ]
    },
    {
     "name": "stderr",
     "output_type": "stream",
     "text": [
      "c:\\ProgramData\\anaconda3\\Lib\\site-packages\\sklearn\\linear_model\\_logistic.py:469: ConvergenceWarning: lbfgs failed to converge (status=1):\n",
      "STOP: TOTAL NO. of ITERATIONS REACHED LIMIT.\n",
      "\n",
      "Increase the number of iterations (max_iter) or scale the data as shown in:\n",
      "    https://scikit-learn.org/stable/modules/preprocessing.html\n",
      "Please also refer to the documentation for alternative solver options:\n",
      "    https://scikit-learn.org/stable/modules/linear_model.html#logistic-regression\n",
      "  n_iter_i = _check_optimize_result(\n"
     ]
    }
   ],
   "source": [
    "X_train, X_test, y_train, y_test = train_test_split(X, y, test_size=0.3, random_state=42)\n",
    "clf_log = LogisticRegression(max_iter=1000)\n",
    "clf_log.fit(X_train, y_train)\n",
    "y_pred_log = clf_log.predict(X_test)\n",
    "y_prob_log = clf_log.predict_proba(X_test)[:,1]\n",
    "\n",
    "print(\"\\nLogistic Regression Confusion Matrix:\")\n",
    "print(metrics.confusion_matrix(y_test, y_pred_log))\n",
    "print(metrics.classification_report(y_test, y_pred_log))\n"
   ]
  },
  {
   "cell_type": "markdown",
   "id": "eced8a4a",
   "metadata": {},
   "source": [
    "The model correctly identifies non-Alzheimer patients more often (90% specificity) than Alzheimer cases (74% sensitivity). About one-quarter of true Alzheimer cases are missed, and 16% of predicted positives are false alarms. This suggests moderate classification performance, with room to improve sensitivity."
   ]
  },
  {
   "cell_type": "code",
   "execution_count": 10,
   "id": "ece27dd4",
   "metadata": {},
   "outputs": [
    {
     "name": "stdout",
     "output_type": "stream",
     "text": [
      "\n",
      "Logistic Regression AUC: 0.919\n"
     ]
    },
    {
     "data": {
      "image/png": "[encoded data removed]",
      "text/plain": [
       "<Figure size 640x480 with 1 Axes>"
      ]
     },
     "metadata": {},
     "output_type": "display_data"
    }
   ],
   "source": [
    "from sklearn.metrics import roc_curve, auc\n",
    "y_prob_log = clf_log.predict_proba(X_test)[:, 1]\n",
    "\n",
    "# 2. Compute false positive rate, true positive rate, and thresholds\n",
    "fpr, tpr, thresholds = roc_curve(y_test, y_prob_log, pos_label=1)\n",
    "\n",
    "# 3. Compute the area under the curve\n",
    "auc_log = auc(fpr, tpr)\n",
    "print(f\"\\nLogistic Regression AUC: {auc_log:.3f}\")\n",
    "\n",
    "# 4. Plot ROC curve\n",
    "plt.figure()\n",
    "plt.plot(fpr, tpr, label=f'ROC curve (AUC = {auc_log:.3f})')\n",
    "plt.plot([0, 1], [0, 1], 'k--', label='Chance level')\n",
    "plt.xlabel('False Positive Rate')\n",
    "plt.ylabel('True Positive Rate')\n",
    "plt.title('ROC Curve — Logistic Regression')\n",
    "plt.legend(loc='lower right')\n",
    "plt.show()"
   ]
  },
  {
   "cell_type": "markdown",
   "id": "a894a790",
   "metadata": {},
   "source": [
    "An AUC of 0.919 indicates excellent discrimination—the model correctly ranks a randomly chosen Alzheimer patient above a non-Alzheimer patient 91.9% of the time. The ROC plot’s curve bows strongly toward the upper‐left, well above the 45° “chance” diagonal, demonstrating good trade‐off between true positive rate and false positive rate across thresholds."
   ]
  },
  {
   "cell_type": "markdown",
   "id": "9abce66f",
   "metadata": {},
   "source": [
    "#### The outputs from Problems 1 and 2 serve different goals:\n",
    "\n",
    "Problem 1 (Logistic regression): Focuses on inference—estimating how each predictor relates to the odds of Alzheimer’s (coefficients, odds ratios, p-values, CIs). It tells us which variables matter and by how much, but not how well we’ll classify new patients.\n",
    "\n",
    "Problem 2 (Confusion matrix): Evaluates predictive performance—how accurately the fitted model labels test‐set observations (accuracy, sensitivity, specificity, precision). It tells us how well the model predicts dementia status in practice, but not why predictors are significant."
   ]
  },
  {
   "cell_type": "code",
   "execution_count": 11,
   "id": "3e3cc765",
   "metadata": {},
   "outputs": [
    {
     "name": "stdout",
     "output_type": "stream",
     "text": [
      "\n",
      "Decision Tree Confusion Matrix:\n",
      "[[164   0]\n",
      " [  9 113]]\n",
      "              precision    recall  f1-score   support\n",
      "\n",
      "           0       0.95      1.00      0.97       164\n",
      "           1       1.00      0.93      0.96       122\n",
      "\n",
      "    accuracy                           0.97       286\n",
      "   macro avg       0.97      0.96      0.97       286\n",
      "weighted avg       0.97      0.97      0.97       286\n",
      "\n",
      "Decision Tree AUC: 0.963\n"
     ]
    }
   ],
   "source": [
    "# --- Part 5: Decision Tree ---\n",
    "clf_tree = DecisionTreeClassifier(random_state=42)\n",
    "clf_tree.fit(X_train, y_train)\n",
    "y_pred_tree = clf_tree.predict(X_test)\n",
    "y_prob_tree = clf_tree.predict_proba(X_test)[:,1]\n",
    "\n",
    "print(\"\\nDecision Tree Confusion Matrix:\")\n",
    "print(metrics.confusion_matrix(y_test, y_pred_tree))\n",
    "print(metrics.classification_report(y_test, y_pred_tree))\n",
    "auc_tree = metrics.roc_auc_score(y_test, y_prob_tree)\n",
    "print(f\"Decision Tree AUC: {auc_tree:.3f}\")"
   ]
  },
  {
   "cell_type": "markdown",
   "id": "54ae2ece",
   "metadata": {},
   "source": [
    "The tree perfectly avoids false positives (100% specificity) and catches 92.6% of Alzheimer cases. With only 9 false negatives, it markedly improves on the logistic model’s sensitivity while maintaining perfect precision. AUC = 0.963 further confirms strong overall discrimination.\n",
    "\n"
   ]
  },
  {
   "cell_type": "code",
   "execution_count": 12,
   "id": "8bdd75d4",
   "metadata": {},
   "outputs": [
    {
     "name": "stdout",
     "output_type": "stream",
     "text": [
      "\n",
      "Random Forest Confusion Matrix:\n",
      "[[164   0]\n",
      " [  6 116]]\n",
      "              precision    recall  f1-score   support\n",
      "\n",
      "           0       0.96      1.00      0.98       164\n",
      "           1       1.00      0.95      0.97       122\n",
      "\n",
      "    accuracy                           0.98       286\n",
      "   macro avg       0.98      0.98      0.98       286\n",
      "weighted avg       0.98      0.98      0.98       286\n",
      "\n",
      "Random Forest AUC: 0.997\n"
     ]
    }
   ],
   "source": [
    "clf_rf = RandomForestClassifier(n_estimators=100, random_state=42)\n",
    "clf_rf.fit(X_train, y_train)\n",
    "y_pred_rf = clf_rf.predict(X_test)\n",
    "y_prob_rf = clf_rf.predict_proba(X_test)[:,1]\n",
    "\n",
    "print(\"\\nRandom Forest Confusion Matrix:\")\n",
    "print(metrics.confusion_matrix(y_test, y_pred_rf))\n",
    "print(metrics.classification_report(y_test, y_pred_rf))\n",
    "auc_rf = metrics.roc_auc_score(y_test, y_prob_rf)\n",
    "print(f\"Random Forest AUC: {auc_rf:.3f}\")"
   ]
  },
  {
   "cell_type": "markdown",
   "id": "09f6b4a9",
   "metadata": {},
   "source": [
    "Random Forest further reduces false negatives (only 6 missed Alzheimer cases), boosting sensitivity to 95.1% while still avoiding false positives. Its AUC of 0.997 indicates near‐perfect class separation."
   ]
  },
  {
   "cell_type": "code",
   "execution_count": 13,
   "id": "85604533",
   "metadata": {},
   "outputs": [
    {
     "name": "stdout",
     "output_type": "stream",
     "text": [
      "\n",
      "Model Comparison:\n",
      "                 Model  Accuracy  Precision    Recall  F1 Score       AUC\n",
      "0  Logistic Regression  0.828671   0.841121  0.737705  0.786026  0.919232\n",
      "1        Decision Tree  0.968531   1.000000  0.926230  0.961702  0.963115\n",
      "2        Random Forest  0.979021   1.000000  0.950820  0.974790  0.997001\n"
     ]
    }
   ],
   "source": [
    "metrics_df = pd.DataFrame({\n",
    "    'Model': ['Logistic Regression', 'Decision Tree', 'Random Forest'],\n",
    "    'Accuracy': [\n",
    "        metrics.accuracy_score(y_test, y_pred_log),\n",
    "        metrics.accuracy_score(y_test, y_pred_tree),\n",
    "        metrics.accuracy_score(y_test, y_pred_rf)\n",
    "    ],\n",
    "    'Precision': [\n",
    "        metrics.precision_score(y_test, y_pred_log),\n",
    "        metrics.precision_score(y_test, y_pred_tree),\n",
    "        metrics.precision_score(y_test, y_pred_rf)\n",
    "    ],\n",
    "    'Recall': [\n",
    "        metrics.recall_score(y_test, y_pred_log),\n",
    "        metrics.recall_score(y_test, y_pred_tree),\n",
    "        metrics.recall_score(y_test, y_pred_rf)\n",
    "    ],\n",
    "    'F1 Score': [\n",
    "        metrics.f1_score(y_test, y_pred_log),\n",
    "        metrics.f1_score(y_test, y_pred_tree),\n",
    "        metrics.f1_score(y_test, y_pred_rf)\n",
    "    ],\n",
    "    'AUC': [auc_log, auc_tree, auc_rf]\n",
    "})\n",
    "\n",
    "# <-- Here is your replacement for display_dataframe_to_user:\n",
    "print(\"\\nModel Comparison:\")\n",
    "print(metrics_df)"
   ]
  },
  {
   "cell_type": "markdown",
   "id": "944a26cb",
   "metadata": {},
   "source": [
    "Based on accuracy, recall, F1-score, and especially AUC, the Random Forest is the top performer. It maximizes true positives without any false positives and achieves near‐perfect AUC, making it the best predictor of Alzheimer’s status among the three."
   ]
  },
  {
   "cell_type": "markdown",
   "id": "7de6b36b",
   "metadata": {},
   "source": [
    "### Part 8: Journal Article Discussion\n",
    "I reviewed Velazquez & Lee (2021), who applied a balanced Random Forest model to predict conversion from Early Mild Cognitive Impairment (EMCI) to Alzheimer’s Disease (AD) using clinical data (Velazquez & Lee, 2021) .\n",
    "\n",
    "Domain problem: EMCI patients represent a prodromal stage before full‐blown AD, and accurately predicting which EMCI subjects will convert to AD is crucial for early intervention and trial recruitment (Velazquez & Lee, 2021) .\n",
    "\n",
    "Method technique:\n",
    "\n",
    "Random Forest is an ensemble of decision trees built on bootstrapped samples with random feature subsets at each split (Breiman, 2001).\n",
    "\n",
    "It excels at handling high‐dimensional, multi‐modal clinical and imaging features, provides robust predictions, and natively yields feature‐importance scores for interpretability.\n",
    "\n",
    "In Velazquez & Lee’s work, they balanced the initially imbalanced EMCI_C (converter) vs. EMCI_NC (non‐converter) classes via oversampling, trained 1 000 trees, and evaluated performance on a held‐out test set.\n",
    "\n",
    "Domain findings:\n",
    "\n",
    "Their balanced Random Forest achieved 93.6% accuracy and 96% AUC on 383 EMCI patients (49 converters, 334 non‐converters) (Velazquez & Lee, 2021).\n",
    "\n",
    "Feature‐importance analysis highlighted which clinical biomarkers and cognitive scores most strongly influenced individual conversion predictions, offering actionable insights for clinicians.\n",
    "\n",
    "References (APA):\n",
    "Breiman, L. (2001). Random forests. Machine Learning, 45(1), 5–32.\n",
    "Velazquez, M., & Lee, Y., for the Alzheimer’s Disease Neuroimaging Initiative. (2021). Random forest model for feature-based Alzheimer’s disease conversion prediction from early mild cognitive impairment subjects. PLoS ONE, 16(4), e0244773. https://doi.org/10.1371/journal.pone.0244773"
   ]
  }
 ],
 "metadata": {
  "kernelspec": {
   "display_name": "base",
   "language": "python",
   "name": "python3"
  },
  "language_info": {
   "codemirror_mode": {
    "name": "ipython",
    "version": 3
   },
   "file_extension": ".py",
   "mimetype": "text/x-python",
   "name": "python",
   "nbconvert_exporter": "python",
   "pygments_lexer": "ipython3",
   "version": "3.12.7"
  }
 },
 "nbformat": 4,
 "nbformat_minor": 5
}
